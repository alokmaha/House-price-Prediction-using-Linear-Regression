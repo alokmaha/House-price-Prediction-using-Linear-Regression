{
 "cells": [
  {
   "cell_type": "markdown",
   "id": "af2b64a9",
   "metadata": {},
   "source": [
    "# Loading Libraries"
   ]
  },
  {
   "cell_type": "code",
   "execution_count": 1,
   "id": "6faccf3a",
   "metadata": {},
   "outputs": [],
   "source": [
    "import pandas as pd"
   ]
  },
  {
   "cell_type": "code",
   "execution_count": 2,
   "id": "b8c3f52d",
   "metadata": {},
   "outputs": [],
   "source": [
    "import numpy as np"
   ]
  },
  {
   "cell_type": "code",
   "execution_count": 3,
   "id": "678dc9e1",
   "metadata": {},
   "outputs": [],
   "source": [
    "import matplotlib.pyplot as plt"
   ]
  },
  {
   "cell_type": "code",
   "execution_count": 4,
   "id": "5bdb2a42",
   "metadata": {},
   "outputs": [],
   "source": [
    "import seaborn as sns"
   ]
  },
  {
   "cell_type": "markdown",
   "id": "a0c78f4d",
   "metadata": {},
   "source": [
    "# Loading Dataset"
   ]
  },
  {
   "cell_type": "code",
   "execution_count": 5,
   "id": "4405bc68",
   "metadata": {},
   "outputs": [],
   "source": [
    "dataset = pd.read_csv(\"D:/Pantech Solutions/11_HousePricePredictionusing_LinearRegression/dataset.csv\")"
   ]
  },
  {
   "cell_type": "markdown",
   "id": "0dc6d0e0",
   "metadata": {},
   "source": [
    "# Summarize Dataset"
   ]
  },
  {
   "cell_type": "code",
   "execution_count": 6,
   "id": "8dcf1eb9",
   "metadata": {},
   "outputs": [
    {
     "data": {
      "text/plain": [
       "(1460, 2)"
      ]
     },
     "execution_count": 6,
     "metadata": {},
     "output_type": "execute_result"
    }
   ],
   "source": [
    "dataset.shape"
   ]
  },
  {
   "cell_type": "code",
   "execution_count": 7,
   "id": "9c31c2e5",
   "metadata": {},
   "outputs": [
    {
     "data": {
      "text/plain": [
       "2920"
      ]
     },
     "execution_count": 7,
     "metadata": {},
     "output_type": "execute_result"
    }
   ],
   "source": [
    "dataset.size"
   ]
  },
  {
   "cell_type": "code",
   "execution_count": 8,
   "id": "c2ae9071",
   "metadata": {},
   "outputs": [
    {
     "data": {
      "text/plain": [
       "2"
      ]
     },
     "execution_count": 8,
     "metadata": {},
     "output_type": "execute_result"
    }
   ],
   "source": [
    "dataset.ndim"
   ]
  },
  {
   "cell_type": "code",
   "execution_count": 9,
   "id": "732bf42a",
   "metadata": {},
   "outputs": [
    {
     "data": {
      "text/plain": [
       "Index(['area', 'price'], dtype='object')"
      ]
     },
     "execution_count": 9,
     "metadata": {},
     "output_type": "execute_result"
    }
   ],
   "source": [
    "dataset.columns"
   ]
  },
  {
   "cell_type": "code",
   "execution_count": 10,
   "id": "665083a9",
   "metadata": {},
   "outputs": [
    {
     "data": {
      "text/html": [
       "<div>\n",
       "<style scoped>\n",
       "    .dataframe tbody tr th:only-of-type {\n",
       "        vertical-align: middle;\n",
       "    }\n",
       "\n",
       "    .dataframe tbody tr th {\n",
       "        vertical-align: top;\n",
       "    }\n",
       "\n",
       "    .dataframe thead th {\n",
       "        text-align: right;\n",
       "    }\n",
       "</style>\n",
       "<table border=\"1\" class=\"dataframe\">\n",
       "  <thead>\n",
       "    <tr style=\"text-align: right;\">\n",
       "      <th></th>\n",
       "      <th>area</th>\n",
       "      <th>price</th>\n",
       "    </tr>\n",
       "  </thead>\n",
       "  <tbody>\n",
       "    <tr>\n",
       "      <th>count</th>\n",
       "      <td>1460.000000</td>\n",
       "      <td>1460.000000</td>\n",
       "    </tr>\n",
       "    <tr>\n",
       "      <th>mean</th>\n",
       "      <td>10516.828082</td>\n",
       "      <td>180921.195890</td>\n",
       "    </tr>\n",
       "    <tr>\n",
       "      <th>std</th>\n",
       "      <td>9981.264932</td>\n",
       "      <td>79442.502883</td>\n",
       "    </tr>\n",
       "    <tr>\n",
       "      <th>min</th>\n",
       "      <td>1300.000000</td>\n",
       "      <td>34900.000000</td>\n",
       "    </tr>\n",
       "    <tr>\n",
       "      <th>25%</th>\n",
       "      <td>7553.500000</td>\n",
       "      <td>129975.000000</td>\n",
       "    </tr>\n",
       "    <tr>\n",
       "      <th>50%</th>\n",
       "      <td>9478.500000</td>\n",
       "      <td>163000.000000</td>\n",
       "    </tr>\n",
       "    <tr>\n",
       "      <th>75%</th>\n",
       "      <td>11601.500000</td>\n",
       "      <td>214000.000000</td>\n",
       "    </tr>\n",
       "    <tr>\n",
       "      <th>max</th>\n",
       "      <td>215245.000000</td>\n",
       "      <td>755000.000000</td>\n",
       "    </tr>\n",
       "  </tbody>\n",
       "</table>\n",
       "</div>"
      ],
      "text/plain": [
       "                area          price\n",
       "count    1460.000000    1460.000000\n",
       "mean    10516.828082  180921.195890\n",
       "std      9981.264932   79442.502883\n",
       "min      1300.000000   34900.000000\n",
       "25%      7553.500000  129975.000000\n",
       "50%      9478.500000  163000.000000\n",
       "75%     11601.500000  214000.000000\n",
       "max    215245.000000  755000.000000"
      ]
     },
     "execution_count": 10,
     "metadata": {},
     "output_type": "execute_result"
    }
   ],
   "source": [
    "dataset.describe()"
   ]
  },
  {
   "cell_type": "markdown",
   "id": "1f7e17cd",
   "metadata": {},
   "source": [
    "# Visualize Dataset"
   ]
  },
  {
   "cell_type": "code",
   "execution_count": 11,
   "id": "25d92802",
   "metadata": {},
   "outputs": [
    {
     "data": {
      "image/png": "[encoded data removed]",
      "text/plain": [
       "<Figure size 720x360 with 1 Axes>"
      ]
     },
     "metadata": {},
     "output_type": "display_data"
    }
   ],
   "source": [
    "sns.set(rc={\"figure.figsize\":(10,5)})\n",
    "sns.scatterplot(x=dataset.area, y=dataset.price, data=dataset, marker = \"*\", color = \"purple\")\n",
    "plt.show()"
   ]
  },
  {
   "cell_type": "markdown",
   "id": "91fcc6c3",
   "metadata": {},
   "source": [
    "# Segregate Dataset into 2 Parts : Independent & Dependent Variable"
   ]
  },
  {
   "cell_type": "code",
   "execution_count": 12,
   "id": "1406fc04",
   "metadata": {},
   "outputs": [],
   "source": [
    "# x = dataset.drop(columns='price', axis=1)\n",
    "x = dataset.iloc[:,0:1].values"
   ]
  },
  {
   "cell_type": "code",
   "execution_count": 13,
   "id": "a01e069b",
   "metadata": {},
   "outputs": [
    {
     "data": {
      "text/plain": [
       "array([[ 8450],\n",
       "       [ 9600],\n",
       "       [11250],\n",
       "       ...,\n",
       "       [ 9042],\n",
       "       [ 9717],\n",
       "       [ 9937]], dtype=int64)"
      ]
     },
     "execution_count": 13,
     "metadata": {},
     "output_type": "execute_result"
    }
   ],
   "source": [
    "x"
   ]
  },
  {
   "cell_type": "code",
   "execution_count": 14,
   "id": "e540e2f4",
   "metadata": {},
   "outputs": [],
   "source": [
    "y = dataset.iloc[:,1].values"
   ]
  },
  {
   "cell_type": "code",
   "execution_count": 15,
   "id": "3015635c",
   "metadata": {},
   "outputs": [
    {
     "data": {
      "text/plain": [
       "array([208500, 181500, 223500, ..., 266500, 142125, 147500], dtype=int64)"
      ]
     },
     "execution_count": 15,
     "metadata": {},
     "output_type": "execute_result"
    }
   ],
   "source": [
    "y"
   ]
  },
  {
   "cell_type": "markdown",
   "id": "b1313b0a",
   "metadata": {},
   "source": [
    "# Splitting Dataset into Training and Testing"
   ]
  },
  {
   "cell_type": "code",
   "execution_count": 16,
   "id": "afa4d901",
   "metadata": {},
   "outputs": [],
   "source": [
    "from sklearn.linear_model import LinearRegression"
   ]
  },
  {
   "cell_type": "code",
   "execution_count": 17,
   "id": "9725f47e",
   "metadata": {},
   "outputs": [],
   "source": [
    "from sklearn.model_selection import train_test_split"
   ]
  },
  {
   "cell_type": "code",
   "execution_count": 18,
   "id": "a3a04215",
   "metadata": {},
   "outputs": [],
   "source": [
    "x_train, x_test, y_train, y_test = train_test_split(x, y, test_size=0.05, random_state=0, shuffle=True)"
   ]
  },
  {
   "cell_type": "code",
   "execution_count": 19,
   "id": "97fe36c3",
   "metadata": {},
   "outputs": [
    {
     "name": "stdout",
     "output_type": "stream",
     "text": [
      "Count of x_train : 1387\t\tCount of y_train : 1387\n",
      "Count of x_test : 73\t\tCount of y_test : 73\n"
     ]
    }
   ],
   "source": [
    "print(f\"Count of x_train : {len(x_train)}\\t\\tCount of y_train : {len(y_train)}\")\n",
    "print(f\"Count of x_test : {len(x_test)}\\t\\tCount of y_test : {len(y_test)}\")"
   ]
  },
  {
   "cell_type": "markdown",
   "id": "fe2a518e",
   "metadata": {},
   "source": [
    "# Training"
   ]
  },
  {
   "cell_type": "code",
   "execution_count": 20,
   "id": "620d6d7e",
   "metadata": {},
   "outputs": [],
   "source": [
    "model = LinearRegression()"
   ]
  },
  {
   "cell_type": "code",
   "execution_count": 21,
   "id": "5530e17f",
   "metadata": {},
   "outputs": [
    {
     "data": {
      "text/plain": [
       "LinearRegression()"
      ]
     },
     "execution_count": 21,
     "metadata": {},
     "output_type": "execute_result"
    }
   ],
   "source": [
    "model.fit(x_train, y_train)"
   ]
  },
  {
   "cell_type": "markdown",
   "id": "79b72ebe",
   "metadata": {},
   "source": [
    "# Predicting Price on Custom Values"
   ]
  },
  {
   "cell_type": "code",
   "execution_count": 22,
   "id": "214b2bc1",
   "metadata": {},
   "outputs": [
    {
     "name": "stdout",
     "output_type": "stream",
     "text": [
      "Enter Area(in sq.ft) : 7200\n",
      "[173984.56722488]\n"
     ]
    }
   ],
   "source": [
    "x = int(input(\"Enter Area(in sq.ft) : \"))\n",
    "LandAreainSqFt = [[x]]\n",
    "\n",
    "model.fit(x_train, y_train)\n",
    "result = model.predict(LandAreainSqFt)\n",
    "print(result)\n"
   ]
  },
  {
   "cell_type": "markdown",
   "id": "4efcd3ef",
   "metadata": {},
   "source": [
    "# Lets check our model is right or not"
   ]
  },
  {
   "cell_type": "markdown",
   "id": "56431a83",
   "metadata": {},
   "source": [
    "coefficient - m"
   ]
  },
  {
   "cell_type": "code",
   "execution_count": 23,
   "id": "78427d0c",
   "metadata": {},
   "outputs": [
    {
     "name": "stdout",
     "output_type": "stream",
     "text": [
      "Coefficient : [2.03871453]\n"
     ]
    }
   ],
   "source": [
    "print(f\"Coefficient : {model.coef_}\")"
   ]
  },
  {
   "cell_type": "markdown",
   "id": "9662c818",
   "metadata": {},
   "source": [
    "intercept - b"
   ]
  },
  {
   "cell_type": "code",
   "execution_count": 24,
   "id": "b33f1695",
   "metadata": {},
   "outputs": [
    {
     "name": "stdout",
     "output_type": "stream",
     "text": [
      "Intercept : 159305.82263130764\n"
     ]
    }
   ],
   "source": [
    "print(f\"Intercept : {model.intercept_}\")"
   ]
  },
  {
   "cell_type": "markdown",
   "id": "a7dcf7a7",
   "metadata": {},
   "source": [
    "y = mx + b"
   ]
  },
  {
   "cell_type": "code",
   "execution_count": 25,
   "id": "f8b0ee8e",
   "metadata": {},
   "outputs": [
    {
     "name": "stdout",
     "output_type": "stream",
     "text": [
      "Price of 7200 feet land is [173984.56722488]\n"
     ]
    }
   ],
   "source": [
    "print(f\"Price of {x} feet land is {result}\")"
   ]
  },
  {
   "cell_type": "markdown",
   "id": "6910b2bb",
   "metadata": {},
   "source": [
    "# Evaluating Model - Mean Squared Error"
   ]
  },
  {
   "cell_type": "code",
   "execution_count": 26,
   "id": "589593e7",
   "metadata": {},
   "outputs": [],
   "source": [
    "from sklearn.metrics import mean_squared_error"
   ]
  },
  {
   "cell_type": "code",
   "execution_count": 27,
   "id": "ab5e42cb",
   "metadata": {},
   "outputs": [],
   "source": [
    "y_prediction = model.predict(x_test)"
   ]
  },
  {
   "cell_type": "code",
   "execution_count": 28,
   "id": "3977c867",
   "metadata": {},
   "outputs": [
    {
     "name": "stdout",
     "output_type": "stream",
     "text": [
      "Mean Squared Error of the Model is : 9049617509.824984\n"
     ]
    }
   ],
   "source": [
    "print(f\"Mean Squared Error of the Model is : {mean_squared_error(y_test, y_prediction)}\")"
   ]
  },
  {
   "cell_type": "code",
   "execution_count": 29,
   "id": "49c6ddd5",
   "metadata": {},
   "outputs": [
    {
     "name": "stdout",
     "output_type": "stream",
     "text": [
      "[[200624.         225906.54879558]\n",
      " [133000.         178653.22349144]\n",
      " [110000.         173607.4050374 ]\n",
      " [192000.         179703.16147279]\n",
      " [ 88000.         162730.86303647]\n",
      " [ 85000.         173984.56722488]\n",
      " [282922.         190408.45145346]\n",
      " [141000.         177654.25337327]\n",
      " [745000.         191156.65968483]\n",
      " [148800.         169713.46029105]\n",
      " [208900.         167929.58508003]\n",
      " [136905.         182751.03969048]\n",
      " [225000.         181246.46836964]\n",
      " [123000.         175285.26709303]\n",
      " [119200.         183085.38887289]\n",
      " [145000.         176431.02465714]\n",
      " [190000.         180072.16880216]\n",
      " [123600.         175758.24886327]\n",
      " [149350.         176724.59954901]\n",
      " [155000.         164402.60894852]\n",
      " [166000.         176675.67040037]\n",
      " [144500.         168353.63770162]\n",
      " [110000.         176577.81210308]\n",
      " [174000.         175870.37816225]\n",
      " [185000.         177898.8991165 ]\n",
      " [168000.         195331.94703589]\n",
      " [177500.         163621.78128472]\n",
      " [ 84500.         163252.77395536]\n",
      " [320000.         186392.1838355 ]\n",
      " [118500.         176594.12181929]\n",
      " [110000.         182700.07182731]\n",
      " [213000.         178300.52587829]\n",
      " [156000.         174677.73016402]\n",
      " [250000.         188377.89178468]\n",
      " [372500.         183452.35748773]\n",
      " [175000.         203896.58676333]\n",
      " [277500.         174214.94196642]\n",
      " [112500.         175003.92448832]\n",
      " [263000.         178418.77132085]\n",
      " [325000.         184292.30787281]\n",
      " [243000.         185024.20638796]\n",
      " [130000.         173850.0120661 ]\n",
      " [164990.         177179.23288851]\n",
      " [280000.         182469.69708577]\n",
      " [403000.         190167.88313929]\n",
      " [119000.         180965.12576493]\n",
      " [125000.         176094.6367602 ]\n",
      " [128200.         181018.13234263]\n",
      " [172500.         182106.80589999]\n",
      " [ 84900.         181935.55387973]\n",
      " [412500.         187211.74707531]\n",
      " [156000.         180282.15639842]\n",
      " [167900.         178979.41781575]\n",
      " [100000.         174486.09099849]\n",
      " [275000.         185401.36857543]\n",
      " [123000.         176214.92091729]\n",
      " [132000.         178877.4820894 ]\n",
      " [239900.         180636.8927261 ]\n",
      " [139000.         177279.12990032]\n",
      " [115000.         171538.10979262]\n",
      " [137500.         177246.51046789]\n",
      " [135000.         180002.85250824]\n",
      " [134450.         179715.39375995]\n",
      " [180500.         188076.16203471]\n",
      " [193500.         175870.37816225]\n",
      " [156500.         176431.02465714]\n",
      " [132000.         186420.72583887]\n",
      " [224500.         186133.26709058]\n",
      " [139000.         170237.40992446]\n",
      " [225000.         184573.65047752]\n",
      " [188500.         175197.60236837]\n",
      " [118000.         174433.08442079]\n",
      " [ 82000.         180112.94309269]]\n"
     ]
    }
   ],
   "source": [
    "print(np.concatenate((y_test.reshape((len(y_test),1)), y_prediction.reshape((len(y_prediction)),1)),1))"
   ]
  },
  {
   "cell_type": "code",
   "execution_count": null,
   "id": "4e2b9ec2",
   "metadata": {},
   "outputs": [],
   "source": []
  },
  {
   "cell_type": "code",
   "execution_count": null,
   "id": "c83d5914",
   "metadata": {},
   "outputs": [],
   "source": []
  }
 ],
 "metadata": {
  "kernelspec": {
   "display_name": "Python 3",
   "language": "python",
   "name": "python3"
  },
  "language_info": {
   "codemirror_mode": {
    "name": "ipython",
    "version": 3
   },
   "file_extension": ".py",
   "mimetype": "text/x-python",
   "name": "python",
   "nbconvert_exporter": "python",
   "pygments_lexer": "ipython3",
   "version": "3.8.8"
  }
 },
 "nbformat": 4,
 "nbformat_minor": 5
}
